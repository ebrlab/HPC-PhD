{
 "cells": [
  {
   "cell_type": "markdown",
   "metadata": {},
   "source": [
    "# Regression and other stories(Gelman et al. 2020) Earning data regression analysed directly through Stan code "
   ]
  },
  {
   "cell_type": "markdown",
   "metadata": {},
   "source": [
    "### Import Packages"
   ]
  },
  {
   "cell_type": "code",
   "execution_count": 5,
   "metadata": {},
   "outputs": [],
   "source": [
    "import pystan as ps\n",
    "import os\n",
    "import pandas as pd\n",
    "import numpy as np \n",
    "import arviz as az\n",
    "%matplotlib inline\n",
    "import matplotlib.pyplot as plt\n",
    "import seaborn as sns\n",
    "sns.set()\n",
    "import requests\n",
    "import io"
   ]
  },
  {
   "cell_type": "markdown",
   "metadata": {},
   "source": [
    "### Import data"
   ]
  },
  {
   "cell_type": "code",
   "execution_count": 6,
   "metadata": {},
   "outputs": [],
   "source": [
    "pwd = (\"C:\\\\Users\\\\harri/OneDrive/Documents/Stats 2\")\n",
    "os.chdir(pwd)\n",
    "# Downloading the csv file from your GitHub account\n",
    "\n",
    "url = \"https://raw.githubusercontent.com/avehtari/ROS-Examples/master/Earnings/data/earnings.csv\" # Make sure the url is the raw version of the file on GitHub\n",
    "download = requests.get(url).content\n",
    "\n",
    "# Reading the downloaded content and turning it into a pandas dataframe\n"
   ]
  },
  {
   "cell_type": "markdown",
   "metadata": {},
   "source": [
    "### Data into pandas dataframe and total rows dropped as failing to intialise "
   ]
  },
  {
   "cell_type": "code",
   "execution_count": 7,
   "metadata": {},
   "outputs": [
    {
     "data": {
      "text/plain": [
       "(36, 15)"
      ]
     },
     "execution_count": 7,
     "metadata": {},
     "output_type": "execute_result"
    }
   ],
   "source": [
    "df = pd.read_csv(io.StringIO(download.decode('utf-8')))\n",
    "df = df.drop(df.index[20:1800])\n",
    "df.shape"
   ]
  },
  {
   "cell_type": "markdown",
   "metadata": {},
   "source": [
    "### Stan regression code"
   ]
  },
  {
   "cell_type": "code",
   "execution_count": 8,
   "metadata": {},
   "outputs": [],
   "source": [
    "np.random.seed(101)\n",
    "\n",
    "pooled_data = \"\"\"\n",
    "data {\n",
    "    int<lower=0> N;\n",
    "    vector[N] x;\n",
    "    vector[N] y;\n",
    "}\n",
    "\"\"\"\n",
    "params = \"\"\"\n",
    "parameters {\n",
    "    real alpha;\n",
    "    real beta;\n",
    "    real<lower=0> sigma;\n",
    "}\n",
    "\"\"\"\n",
    "model = \"\"\"\n",
    "model{\n",
    "    y ~ normal(alpha + beta * x, sigma);\n",
    "}\n",
    "\n",
    "\"\"\""
   ]
  },
  {
   "cell_type": "code",
   "execution_count": 9,
   "metadata": {},
   "outputs": [
    {
     "data": {
      "text/plain": [
       "numpy.ndarray"
      ]
     },
     "execution_count": 9,
     "metadata": {},
     "output_type": "execute_result"
    }
   ],
   "source": [
    "#Data put into numpy array for vectorisation\n",
    "x = df[\"height\"]\n",
    "x = x.values\n",
    "y = df[\"weight\"]\n",
    "y = y.values\n",
    "type(y)"
   ]
  },
  {
   "cell_type": "code",
   "execution_count": 10,
   "metadata": {},
   "outputs": [
    {
     "name": "stderr",
     "output_type": "stream",
     "text": [
      "INFO:pystan:COMPILING THE C++ CODE FOR MODEL anon_model_379598f6382da7303ab98d6b177f9841 NOW.\n"
     ]
    }
   ],
   "source": [
    "# Put data into a dictionary\n",
    "data = {'N': len(x), 'x': x, 'y': y}\n",
    "\n",
    "# Compile the model\n",
    "sm = ps.StanModel(model_code=pooled_data + params + model)\n",
    "\n",
    "#Fit the model to the data\n",
    "fit = sm.sampling(data=data, iter=1000, chains=4, warmup=500, thin=1, seed=101)\n"
   ]
  },
  {
   "cell_type": "code",
   "execution_count": 12,
   "metadata": {},
   "outputs": [],
   "source": [
    "fit"
   ]
  }
 ],
 "metadata": {
  "kernelspec": {
   "display_name": "Python 3",
   "language": "python",
   "name": "python3"
  },
  "language_info": {
   "codemirror_mode": {
    "name": "ipython",
    "version": 3
   },
   "file_extension": ".py",
   "mimetype": "text/x-python",
   "name": "python",
   "nbconvert_exporter": "python",
   "pygments_lexer": "ipython3",
   "version": "3.7.4"
  }
 },
 "nbformat": 4,
 "nbformat_minor": 2
}
